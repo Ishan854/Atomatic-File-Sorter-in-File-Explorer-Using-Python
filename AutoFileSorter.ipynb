{
 "cells": [
  {
   "cell_type": "code",
   "execution_count": 5,
   "metadata": {},
   "outputs": [
    {
     "ename": "FileNotFoundError",
     "evalue": "[Errno 2] No such file or directory: 'C:\\\\Users\\\\RABINDRA SRIVASTAVA\\\\Desktop\\\\Data Analysis\\\\Python PracticeAutoFileSorter.ipynb'",
     "output_type": "error",
     "traceback": [
      "\u001b[1;31m---------------------------------------------------------------------------\u001b[0m",
      "\u001b[1;31mFileNotFoundError\u001b[0m                         Traceback (most recent call last)",
      "File \u001b[1;32mc:\\Program Files\\Python311\\Lib\\shutil.py:824\u001b[0m, in \u001b[0;36mmove\u001b[1;34m(src, dst, copy_function)\u001b[0m\n\u001b[0;32m    823\u001b[0m \u001b[39mtry\u001b[39;00m:\n\u001b[1;32m--> 824\u001b[0m     os\u001b[39m.\u001b[39;49mrename(src, real_dst)\n\u001b[0;32m    825\u001b[0m \u001b[39mexcept\u001b[39;00m \u001b[39mOSError\u001b[39;00m:\n",
      "\u001b[1;31mFileNotFoundError\u001b[0m: [WinError 2] The system cannot find the file specified: 'C:\\\\Users\\\\RABINDRA SRIVASTAVA\\\\Desktop\\\\Data Analysis\\\\Python PracticeAutoFileSorter.ipynb' -> 'C:\\\\Users\\\\RABINDRA SRIVASTAVA\\\\Desktop\\\\Data Analysis\\\\Python Practicepython files/AutoFileSorter.ipynb'",
      "\nDuring handling of the above exception, another exception occurred:\n",
      "\u001b[1;31mFileNotFoundError\u001b[0m                         Traceback (most recent call last)",
      "Cell \u001b[1;32mIn[5], line 14\u001b[0m\n\u001b[0;32m     12\u001b[0m     shutil\u001b[39m.\u001b[39mmove(path \u001b[39m+\u001b[39m file, path \u001b[39m+\u001b[39m \u001b[39m\"\u001b[39m\u001b[39mimage files/\u001b[39m\u001b[39m\"\u001b[39m\u001b[39m+\u001b[39mfile)\n\u001b[0;32m     13\u001b[0m \u001b[39melif\u001b[39;00m \u001b[39m\"\u001b[39m\u001b[39m.ipynb\u001b[39m\u001b[39m\"\u001b[39m \u001b[39min\u001b[39;00m file \u001b[39mand\u001b[39;00m \u001b[39mnot\u001b[39;00m os\u001b[39m.\u001b[39mpath\u001b[39m.\u001b[39mexists(path \u001b[39m+\u001b[39m \u001b[39m\"\u001b[39m\u001b[39m'\u001b[39m\u001b[39mpython files/\u001b[39m\u001b[39m'\u001b[39m\u001b[39m\"\u001b[39m \u001b[39m+\u001b[39m file):\n\u001b[1;32m---> 14\u001b[0m     shutil\u001b[39m.\u001b[39;49mmove(path \u001b[39m+\u001b[39;49m file, path \u001b[39m+\u001b[39;49m \u001b[39m\"\u001b[39;49m\u001b[39mpython files/\u001b[39;49m\u001b[39m\"\u001b[39;49m\u001b[39m+\u001b[39;49mfile)\n\u001b[0;32m     15\u001b[0m \u001b[39melif\u001b[39;00m \u001b[39m\"\u001b[39m\u001b[39m.txt\u001b[39m\u001b[39m\"\u001b[39m \u001b[39min\u001b[39;00m file \u001b[39mand\u001b[39;00m \u001b[39mnot\u001b[39;00m os\u001b[39m.\u001b[39mpath\u001b[39m.\u001b[39mexists(path \u001b[39m+\u001b[39m \u001b[39m\"\u001b[39m\u001b[39m'\u001b[39m\u001b[39mtxt files/\u001b[39m\u001b[39m'\u001b[39m\u001b[39m\"\u001b[39m \u001b[39m+\u001b[39m file):\n\u001b[0;32m     16\u001b[0m     shutil\u001b[39m.\u001b[39mmove(path \u001b[39m+\u001b[39m file, path \u001b[39m+\u001b[39m \u001b[39m\"\u001b[39m\u001b[39mtxt files/\u001b[39m\u001b[39m\"\u001b[39m\u001b[39m+\u001b[39mfile)\n",
      "File \u001b[1;32mc:\\Program Files\\Python311\\Lib\\shutil.py:844\u001b[0m, in \u001b[0;36mmove\u001b[1;34m(src, dst, copy_function)\u001b[0m\n\u001b[0;32m    842\u001b[0m         rmtree(src)\n\u001b[0;32m    843\u001b[0m     \u001b[39melse\u001b[39;00m:\n\u001b[1;32m--> 844\u001b[0m         copy_function(src, real_dst)\n\u001b[0;32m    845\u001b[0m         os\u001b[39m.\u001b[39munlink(src)\n\u001b[0;32m    846\u001b[0m \u001b[39mreturn\u001b[39;00m real_dst\n",
      "File \u001b[1;32mc:\\Program Files\\Python311\\Lib\\shutil.py:436\u001b[0m, in \u001b[0;36mcopy2\u001b[1;34m(src, dst, follow_symlinks)\u001b[0m\n\u001b[0;32m    434\u001b[0m \u001b[39mif\u001b[39;00m os\u001b[39m.\u001b[39mpath\u001b[39m.\u001b[39misdir(dst):\n\u001b[0;32m    435\u001b[0m     dst \u001b[39m=\u001b[39m os\u001b[39m.\u001b[39mpath\u001b[39m.\u001b[39mjoin(dst, os\u001b[39m.\u001b[39mpath\u001b[39m.\u001b[39mbasename(src))\n\u001b[1;32m--> 436\u001b[0m copyfile(src, dst, follow_symlinks\u001b[39m=\u001b[39;49mfollow_symlinks)\n\u001b[0;32m    437\u001b[0m copystat(src, dst, follow_symlinks\u001b[39m=\u001b[39mfollow_symlinks)\n\u001b[0;32m    438\u001b[0m \u001b[39mreturn\u001b[39;00m dst\n",
      "File \u001b[1;32mc:\\Program Files\\Python311\\Lib\\shutil.py:256\u001b[0m, in \u001b[0;36mcopyfile\u001b[1;34m(src, dst, follow_symlinks)\u001b[0m\n\u001b[0;32m    254\u001b[0m     os\u001b[39m.\u001b[39msymlink(os\u001b[39m.\u001b[39mreadlink(src), dst)\n\u001b[0;32m    255\u001b[0m \u001b[39melse\u001b[39;00m:\n\u001b[1;32m--> 256\u001b[0m     \u001b[39mwith\u001b[39;00m \u001b[39mopen\u001b[39;49m(src, \u001b[39m'\u001b[39;49m\u001b[39mrb\u001b[39;49m\u001b[39m'\u001b[39;49m) \u001b[39mas\u001b[39;00m fsrc:\n\u001b[0;32m    257\u001b[0m         \u001b[39mtry\u001b[39;00m:\n\u001b[0;32m    258\u001b[0m             \u001b[39mwith\u001b[39;00m \u001b[39mopen\u001b[39m(dst, \u001b[39m'\u001b[39m\u001b[39mwb\u001b[39m\u001b[39m'\u001b[39m) \u001b[39mas\u001b[39;00m fdst:\n\u001b[0;32m    259\u001b[0m                 \u001b[39m# macOS\u001b[39;00m\n",
      "\u001b[1;31mFileNotFoundError\u001b[0m: [Errno 2] No such file or directory: 'C:\\\\Users\\\\RABINDRA SRIVASTAVA\\\\Desktop\\\\Data Analysis\\\\Python PracticeAutoFileSorter.ipynb'"
     ]
    }
   ],
   "source": [
    "import os,shutil\n",
    "path = r'C:/Users/RABINDRA SRIVASTAVA/Desktop/Data Analysis/Python Practice/'\n",
    "file_name = os.listdir(path)\n",
    "folder_names = ['csv files', 'image files','python files', 'txt files']\n",
    "for loop in range(0,4):\n",
    "    if not os.path.exists(path + folder_names[loop]):\n",
    "        os.mkdir(path + folder_names[loop])\n",
    "for file in file_name: \n",
    "    if \".csv\" in file and not os.path.exists(path + \"'csv files/'\" + file):\n",
    "        shutil.move(path + file, path + \"csv files/\"+file)\n",
    "    elif \".jpg\" in file and not os.path.exists(path + \"'image files/'\" + file):\n",
    "        shutil.move(path + file, path + \"image files/\"+file)\n",
    "    elif \".ipynb\" in file and not os.path.exists(path + \"'python files/'\" + file):\n",
    "        shutil.move(path + file, path + \"python files/\"+file)\n",
    "    elif \".txt\" in file and not os.path.exists(path + \"'txt files/'\" + file):\n",
    "        shutil.move(path + file, path + \"txt files/\"+file)\n",
    "else:\n",
    "    print(\"There are files in this path that do not exist\")                           "
   ]
  }
 ],
 "metadata": {
  "kernelspec": {
   "display_name": "Python 3",
   "language": "python",
   "name": "python3"
  },
  "language_info": {
   "codemirror_mode": {
    "name": "ipython",
    "version": 3
   },
   "file_extension": ".py",
   "mimetype": "text/x-python",
   "name": "python",
   "nbconvert_exporter": "python",
   "pygments_lexer": "ipython3",
   "version": "3.11.0"
  },
  "orig_nbformat": 4
 },
 "nbformat": 4,
 "nbformat_minor": 2
}
